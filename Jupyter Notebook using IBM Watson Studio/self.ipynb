{
 "cells": [
  {
   "cell_type": "markdown",
   "id": "c9df3340-7856-4750-9986-2e1a615991e8",
   "metadata": {},
   "source": [
    "# My Jupyter Notebook on IBM Watson Studio"
   ]
  },
  {
   "cell_type": "markdown",
   "id": "1b8a718d-f481-4d86-bf58-53f02d94c446",
   "metadata": {},
   "source": [
    "**Christian Choi**"
   ]
  },
  {
   "cell_type": "markdown",
   "id": "b8a53f7e-046d-4539-9881-bdb94ad84342",
   "metadata": {},
   "source": [
    "Software Engineer"
   ]
  },
  {
   "cell_type": "markdown",
   "id": "af98111a-464d-43fb-a047-48cb6b51f24f",
   "metadata": {},
   "source": [
    "*I am interested in taking data science lessons because I want to gain a solid understanding of the fundamentals of data science and develop practical skills to analyze and interpret complex data. With the growing importance of data-driven decision making in many fields, I believe that learning data science will equip me with the necessary tools to extract valuable insights from data and drive meaningful change in any organization. Additionally, I am excited to learn how to apply machine learning algorithms and statistical techniques to solve real-world problems and create predictive models that can inform decision making. Overall, I believe that data science is an incredibly powerful and dynamic field that has the potential to unlock significant value for any business or organization, and I am excited to gain the knowledge and skills to contribute to this field.*"
   ]
  },
  {
   "cell_type": "markdown",
   "id": "7c9e6598-01f9-4ad4-91f7-1eac9a3034b1",
   "metadata": {},
   "source": [
    "### The Following Code will generate a random lucky number between 1 and 50"
   ]
  },
  {
   "cell_type": "code",
   "execution_count": 4,
   "id": "33503150-e0b0-417f-a5d2-caa8f8831fa9",
   "metadata": {},
   "outputs": [
    {
     "name": "stdout",
     "output_type": "stream",
     "text": [
      "44\n"
     ]
    }
   ],
   "source": [
    "import random\n",
    "\n",
    "Lucky_number = random.randint(1,50)\n",
    "\n",
    "print(Lucky_number)"
   ]
  },
  {
   "cell_type": "markdown",
   "id": "a8a90358-202a-42a3-a8ac-34f6378adef8",
   "metadata": {},
   "source": [
    "Interested technologies:"
   ]
  },
  {
   "cell_type": "markdown",
   "id": "bade73c5-2e05-428d-b89b-234d048b859a",
   "metadata": {},
   "source": [
    "<ul>\n",
    "  <li>FrontEnd</li>\n",
    "  <li>Data Science</li>\n",
    "  <li>Cloud</li>\n",
    "<li>AI</li>\n",
    "</ul>  "
   ]
  },
  {
   "cell_type": "code",
   "execution_count": null,
   "id": "b7d42868-6bd1-402f-89dd-d6c9bc51ce13",
   "metadata": {},
   "outputs": [],
   "source": []
  }
 ],
 "metadata": {
  "kernelspec": {
   "display_name": "Python",
   "language": "python",
   "name": "conda-env-python-py"
  },
  "language_info": {
   "codemirror_mode": {
    "name": "ipython",
    "version": 3
   },
   "file_extension": ".py",
   "mimetype": "text/x-python",
   "name": "python",
   "nbconvert_exporter": "python",
   "pygments_lexer": "ipython3",
   "version": "3.7.12"
  }
 },
 "nbformat": 4,
 "nbformat_minor": 5
}
